{
 "cells": [
  {
   "cell_type": "code",
   "execution_count": 1,
   "id": "08e76d77-7f71-4714-82f1-942d6451ed45",
   "metadata": {},
   "outputs": [
    {
     "data": {
      "text/html": [
       "<style>pre { white-space: pre !important; }</style>"
      ],
      "text/plain": [
       "<IPython.core.display.HTML object>"
      ]
     },
     "metadata": {},
     "output_type": "display_data"
    }
   ],
   "source": [
    "from IPython.core.display import HTML\n",
    "display(HTML(\"<style>pre { white-space: pre !important; }</style>\"))\n",
    "from pyspark.sql import SparkSession\n",
    "from pyspark.sql.functions import from_json, col,json_tuple,expr,split,regexp_replace,array_join,concat_ws,explode,count,max,first\n",
    "from pyspark.sql.types import ArrayType, StructType, StructField, StringType, IntegerType,DateType,FloatType,DecimalType"
   ]
  },
  {
   "cell_type": "code",
   "execution_count": null,
   "id": "bf294926-5f63-46cd-9a26-af193a51c826",
   "metadata": {},
   "outputs": [],
   "source": [
    "# Create a Spark session\n",
    "spark = SparkSession.builder.appName(\"MovieAnalysis\").getOrCreate()"
   ]
  },
  {
   "cell_type": "code",
   "execution_count": 2,
   "id": "1660b222-ee10-4d4e-82fb-011d74fd8181",
   "metadata": {},
   "outputs": [],
   "source": [
    "file_path = 'hdfs://localhost:8020/spark_hadoop_project/data/tmdb_5000_movies.csv'\n",
    "popular_film = 'hdfs://localhost:8020/spark_hadoop_project/data/popular_film_per_lan.csv'\n",
    "Genres_Agggregations = 'hdfs://localhost:8020/spark_hadoop_project/data/Genres_Agggregations.csv'"
   ]
  },
  {
   "cell_type": "code",
   "execution_count": 3,
   "id": "d5fe9758-880b-4536-96b3-4949e5b107f2",
   "metadata": {},
   "outputs": [],
   "source": [
    "# Define the schema for parsing CSV data\n",
    "df_schema = StructType([StructField('budget', DecimalType(18, 2), True),\n",
    "                        StructField('genres', StringType(), True),\n",
    "                        StructField('homepage', StringType(), True),\n",
    "                        StructField('id', IntegerType(), True),\n",
    "                        StructField('keywords', StringType(), True),\n",
    "                        StructField('original_language', StringType(),True),\n",
    "                        StructField('original_title', StringType(), True),\n",
    "                        StructField('overview', StringType(), True),\n",
    "                        StructField('popularity', FloatType(), True),\n",
    "                        StructField('production_companies', StringType(), True),\n",
    "                        StructField('production_countries', StringType(), True),\n",
    "                        StructField('release_date', DateType(), True),\n",
    "                        StructField('revenue', DecimalType(18, 2), True),\n",
    "                        StructField('runtime', FloatType(), True),\n",
    "                        StructField('spoken_languages', StringType(), True),\n",
    "                        StructField('status', StringType(), True),\n",
    "                        StructField('tagline', StringType(), True),\n",
    "                        StructField('title', StringType(), True),\n",
    "                        StructField('vote_average', FloatType(), True),\n",
    "                        StructField('vote_count', FloatType(), True)])\n"
   ]
  },
  {
   "cell_type": "code",
   "execution_count": 4,
   "id": "b0508a5e-58ab-482a-9566-f41fdd55e32c",
   "metadata": {},
   "outputs": [],
   "source": [
    "# Read data from HDFS\n",
    "df = spark.read.format(\"csv\") \\\n",
    "    .option(\"header\", \"true\") \\\n",
    "    .option(\"multiLine\", \"true\") \\\n",
    "    .option(\"quote\", '\"') \\\n",
    "    .option(\"escape\", '\"') \\\n",
    "    .schema(df_schema) \\\n",
    "    .load(file_path)"
   ]
  },
  {
   "cell_type": "code",
   "execution_count": 5,
   "id": "a8271661-9dbe-4bc7-90f7-5b29fcb32746",
   "metadata": {
    "scrolled": true
   },
   "outputs": [
    {
     "name": "stdout",
     "output_type": "stream",
     "text": [
      "+------------+--------------------------------------------------------------------------------------------------------------------------------------+--------------------------------------------+------+-------------------------------------------------------------------------------------------------------------------------------------------------------------------------------------------------------------------------------------------------------------------------------------------------------------------------------------------------------------------------------------------------------------------------------------------------------------------------------------------------------------------------------------------------------------------------------------------------------------------------------------------------------------------------------------------------------------------------------------------------------------------------------------------+-----------------+----------------------------------------+--------------------------------------------------------------------------------------------------------------------------------------------------------------------------------------------------------------------------------------------------------------------------------------------------------------------------------------------------------------------------------------------------------------------------------------------+----------+-----------------------------------------------------------------------------------------------------------------------------------------------------------------------------------------------------------+----------------------------------------------------------------------------------------------------------+------------+-------------+-------+--------------------------------------------------------------------------------------------------------------------------------------------------------------------------------------------------------------------+--------+----------------------------------------------+----------------------------------------+------------+----------+\n",
      "|budget      |genres                                                                                                                                |homepage                                    |id    |keywords                                                                                                                                                                                                                                                                                                                                                                                                                                                                                                                                                                                                                                                                                                                                                                                   |original_language|original_title                          |overview                                                                                                                                                                                                                                                                                                                                                                                                                                    |popularity|production_companies                                                                                                                                                                                       |production_countries                                                                                      |release_date|revenue      |runtime|spoken_languages                                                                                                                                                                                                    |status  |tagline                                       |title                                   |vote_average|vote_count|\n",
      "+------------+--------------------------------------------------------------------------------------------------------------------------------------+--------------------------------------------+------+-------------------------------------------------------------------------------------------------------------------------------------------------------------------------------------------------------------------------------------------------------------------------------------------------------------------------------------------------------------------------------------------------------------------------------------------------------------------------------------------------------------------------------------------------------------------------------------------------------------------------------------------------------------------------------------------------------------------------------------------------------------------------------------------+-----------------+----------------------------------------+--------------------------------------------------------------------------------------------------------------------------------------------------------------------------------------------------------------------------------------------------------------------------------------------------------------------------------------------------------------------------------------------------------------------------------------------+----------+-----------------------------------------------------------------------------------------------------------------------------------------------------------------------------------------------------------+----------------------------------------------------------------------------------------------------------+------------+-------------+-------+--------------------------------------------------------------------------------------------------------------------------------------------------------------------------------------------------------------------+--------+----------------------------------------------+----------------------------------------+------------+----------+\n",
      "|237000000.00|[{\"id\": 28, \"name\": \"Action\"}, {\"id\": 12, \"name\": \"Adventure\"}, {\"id\": 14, \"name\": \"Fantasy\"}, {\"id\": 878, \"name\": \"Science Fiction\"}]|http://www.avatarmovie.com/                 |19995 |[{\"id\": 1463, \"name\": \"culture clash\"}, {\"id\": 2964, \"name\": \"future\"}, {\"id\": 3386, \"name\": \"space war\"}, {\"id\": 3388, \"name\": \"space colony\"}, {\"id\": 3679, \"name\": \"society\"}, {\"id\": 3801, \"name\": \"space travel\"}, {\"id\": 9685, \"name\": \"futuristic\"}, {\"id\": 9840, \"name\": \"romance\"}, {\"id\": 9882, \"name\": \"space\"}, {\"id\": 9951, \"name\": \"alien\"}, {\"id\": 10148, \"name\": \"tribe\"}, {\"id\": 10158, \"name\": \"alien planet\"}, {\"id\": 10987, \"name\": \"cgi\"}, {\"id\": 11399, \"name\": \"marine\"}, {\"id\": 13065, \"name\": \"soldier\"}, {\"id\": 14643, \"name\": \"battle\"}, {\"id\": 14720, \"name\": \"love affair\"}, {\"id\": 165431, \"name\": \"anti war\"}, {\"id\": 193554, \"name\": \"power relations\"}, {\"id\": 206690, \"name\": \"mind and soul\"}, {\"id\": 209714, \"name\": \"3d\"}]                            |en               |Avatar                                  |In the 22nd century, a paraplegic Marine is dispatched to the moon Pandora on a unique mission, but becomes torn between following orders and protecting an alien civilization.                                                                                                                                                                                                                                                             |150.43758 |[{\"name\": \"Ingenious Film Partners\", \"id\": 289}, {\"name\": \"Twentieth Century Fox Film Corporation\", \"id\": 306}, {\"name\": \"Dune Entertainment\", \"id\": 444}, {\"name\": \"Lightstorm Entertainment\", \"id\": 574}]|[{\"iso_3166_1\": \"US\", \"name\": \"United States of America\"}, {\"iso_3166_1\": \"GB\", \"name\": \"United Kingdom\"}]|2009-12-10  |2787965087.00|162.0  |[{\"iso_639_1\": \"en\", \"name\": \"English\"}, {\"iso_639_1\": \"es\", \"name\": \"Espa\\u00f1ol\"}]                                                                                                                               |Released|Enter the World of Pandora.                   |Avatar                                  |7.2         |11800.0   |\n",
      "|300000000.00|[{\"id\": 12, \"name\": \"Adventure\"}, {\"id\": 14, \"name\": \"Fantasy\"}, {\"id\": 28, \"name\": \"Action\"}]                                        |http://disney.go.com/disneypictures/pirates/|285   |[{\"id\": 270, \"name\": \"ocean\"}, {\"id\": 726, \"name\": \"drug abuse\"}, {\"id\": 911, \"name\": \"exotic island\"}, {\"id\": 1319, \"name\": \"east india trading company\"}, {\"id\": 2038, \"name\": \"love of one's life\"}, {\"id\": 2052, \"name\": \"traitor\"}, {\"id\": 2580, \"name\": \"shipwreck\"}, {\"id\": 2660, \"name\": \"strong woman\"}, {\"id\": 3799, \"name\": \"ship\"}, {\"id\": 5740, \"name\": \"alliance\"}, {\"id\": 5941, \"name\": \"calypso\"}, {\"id\": 6155, \"name\": \"afterlife\"}, {\"id\": 6211, \"name\": \"fighter\"}, {\"id\": 12988, \"name\": \"pirate\"}, {\"id\": 157186, \"name\": \"swashbuckler\"}, {\"id\": 179430, \"name\": \"aftercreditsstinger\"}]                                                                                                                                                                             |en               |Pirates of the Caribbean: At World's End|Captain Barbossa, long believed to be dead, has come back to life and is headed to the edge of the Earth with Will Turner and Elizabeth Swann. But nothing is quite as it seems.                                                                                                                                                                                                                                                            |139.08261 |[{\"name\": \"Walt Disney Pictures\", \"id\": 2}, {\"name\": \"Jerry Bruckheimer Films\", \"id\": 130}, {\"name\": \"Second Mate Productions\", \"id\": 19936}]                                                              |[{\"iso_3166_1\": \"US\", \"name\": \"United States of America\"}]                                                |2007-05-19  |961000000.00 |169.0  |[{\"iso_639_1\": \"en\", \"name\": \"English\"}]                                                                                                                                                                            |Released|At the end of the world, the adventure begins.|Pirates of the Caribbean: At World's End|6.9         |4500.0    |\n",
      "|245000000.00|[{\"id\": 28, \"name\": \"Action\"}, {\"id\": 12, \"name\": \"Adventure\"}, {\"id\": 80, \"name\": \"Crime\"}]                                          |http://www.sonypictures.com/movies/spectre/ |206647|[{\"id\": 470, \"name\": \"spy\"}, {\"id\": 818, \"name\": \"based on novel\"}, {\"id\": 4289, \"name\": \"secret agent\"}, {\"id\": 9663, \"name\": \"sequel\"}, {\"id\": 14555, \"name\": \"mi6\"}, {\"id\": 156095, \"name\": \"british secret service\"}, {\"id\": 158431, \"name\": \"united kingdom\"}]                                                                                                                                                                                                                                                                                                                                                                                                                                                                                                                        |en               |Spectre                                 |A cryptic message from Bond’s past sends him on a trail to uncover a sinister organization. While M battles political forces to keep the secret service alive, Bond peels back the layers of deceit to reveal the terrible truth behind SPECTRE.                                                                                                                                                                                            |107.376785|[{\"name\": \"Columbia Pictures\", \"id\": 5}, {\"name\": \"Danjaq\", \"id\": 10761}, {\"name\": \"B24\", \"id\": 69434}]                                                                                                    |[{\"iso_3166_1\": \"GB\", \"name\": \"United Kingdom\"}, {\"iso_3166_1\": \"US\", \"name\": \"United States of America\"}]|2015-10-26  |880674609.00 |148.0  |[{\"iso_639_1\": \"fr\", \"name\": \"Fran\\u00e7ais\"}, {\"iso_639_1\": \"en\", \"name\": \"English\"}, {\"iso_639_1\": \"es\", \"name\": \"Espa\\u00f1ol\"}, {\"iso_639_1\": \"it\", \"name\": \"Italiano\"}, {\"iso_639_1\": \"de\", \"name\": \"Deutsch\"}]|Released|A Plan No One Escapes                         |Spectre                                 |6.3         |4466.0    |\n",
      "|250000000.00|[{\"id\": 28, \"name\": \"Action\"}, {\"id\": 80, \"name\": \"Crime\"}, {\"id\": 18, \"name\": \"Drama\"}, {\"id\": 53, \"name\": \"Thriller\"}]              |http://www.thedarkknightrises.com/          |49026 |[{\"id\": 849, \"name\": \"dc comics\"}, {\"id\": 853, \"name\": \"crime fighter\"}, {\"id\": 949, \"name\": \"terrorist\"}, {\"id\": 1308, \"name\": \"secret identity\"}, {\"id\": 1437, \"name\": \"burglar\"}, {\"id\": 3051, \"name\": \"hostage drama\"}, {\"id\": 3562, \"name\": \"time bomb\"}, {\"id\": 6969, \"name\": \"gotham city\"}, {\"id\": 7002, \"name\": \"vigilante\"}, {\"id\": 9665, \"name\": \"cover-up\"}, {\"id\": 9715, \"name\": \"superhero\"}, {\"id\": 9990, \"name\": \"villainess\"}, {\"id\": 10044, \"name\": \"tragic hero\"}, {\"id\": 13015, \"name\": \"terrorism\"}, {\"id\": 14796, \"name\": \"destruction\"}, {\"id\": 18933, \"name\": \"catwoman\"}, {\"id\": 156082, \"name\": \"cat burglar\"}, {\"id\": 156395, \"name\": \"imax\"}, {\"id\": 173272, \"name\": \"flood\"}, {\"id\": 179093, \"name\": \"criminal underworld\"}, {\"id\": 230775, \"name\": \"batman\"}]|en               |The Dark Knight Rises                   |Following the death of District Attorney Harvey Dent, Batman assumes responsibility for Dent's crimes to protect the late attorney's reputation and is subsequently hunted by the Gotham City Police Department. Eight years later, Batman encounters the mysterious Selina Kyle and the villainous Bane, a new terrorist leader who overwhelms Gotham's finest. The Dark Knight resurfaces to protect a city that has branded him an enemy.|112.31295 |[{\"name\": \"Legendary Pictures\", \"id\": 923}, {\"name\": \"Warner Bros.\", \"id\": 6194}, {\"name\": \"DC Entertainment\", \"id\": 9993}, {\"name\": \"Syncopy\", \"id\": 9996}]                                               |[{\"iso_3166_1\": \"US\", \"name\": \"United States of America\"}]                                                |2012-07-16  |1084939099.00|165.0  |[{\"iso_639_1\": \"en\", \"name\": \"English\"}]                                                                                                                                                                            |Released|The Legend Ends                               |The Dark Knight Rises                   |7.6         |9106.0    |\n",
      "|260000000.00|[{\"id\": 28, \"name\": \"Action\"}, {\"id\": 12, \"name\": \"Adventure\"}, {\"id\": 878, \"name\": \"Science Fiction\"}]                               |http://movies.disney.com/john-carter        |49529 |[{\"id\": 818, \"name\": \"based on novel\"}, {\"id\": 839, \"name\": \"mars\"}, {\"id\": 1456, \"name\": \"medallion\"}, {\"id\": 3801, \"name\": \"space travel\"}, {\"id\": 7376, \"name\": \"princess\"}, {\"id\": 9951, \"name\": \"alien\"}, {\"id\": 10028, \"name\": \"steampunk\"}, {\"id\": 10539, \"name\": \"martian\"}, {\"id\": 10685, \"name\": \"escape\"}, {\"id\": 161511, \"name\": \"edgar rice burroughs\"}, {\"id\": 163252, \"name\": \"alien race\"}, {\"id\": 179102, \"name\": \"superhuman strength\"}, {\"id\": 190320, \"name\": \"mars civilization\"}, {\"id\": 195446, \"name\": \"sword and planet\"}, {\"id\": 207928, \"name\": \"19th century\"}, {\"id\": 209714, \"name\": \"3d\"}]                                                                                                                                                                  |en               |John Carter                             |John Carter is a war-weary, former military captain who's inexplicably transported to the mysterious and exotic planet of Barsoom (Mars) and reluctantly becomes embroiled in an epic conflict. It's a world on the brink of collapse, and Carter rediscovers his humanity when he realizes the survival of Barsoom and its people rests in his hands.                                                                                      |43.926994 |[{\"name\": \"Walt Disney Pictures\", \"id\": 2}]                                                                                                                                                                |[{\"iso_3166_1\": \"US\", \"name\": \"United States of America\"}]                                                |2012-03-07  |284139100.00 |132.0  |[{\"iso_639_1\": \"en\", \"name\": \"English\"}]                                                                                                                                                                            |Released|Lost in our world, found in another.          |John Carter                             |6.1         |2124.0    |\n",
      "+------------+--------------------------------------------------------------------------------------------------------------------------------------+--------------------------------------------+------+-------------------------------------------------------------------------------------------------------------------------------------------------------------------------------------------------------------------------------------------------------------------------------------------------------------------------------------------------------------------------------------------------------------------------------------------------------------------------------------------------------------------------------------------------------------------------------------------------------------------------------------------------------------------------------------------------------------------------------------------------------------------------------------------+-----------------+----------------------------------------+--------------------------------------------------------------------------------------------------------------------------------------------------------------------------------------------------------------------------------------------------------------------------------------------------------------------------------------------------------------------------------------------------------------------------------------------+----------+-----------------------------------------------------------------------------------------------------------------------------------------------------------------------------------------------------------+----------------------------------------------------------------------------------------------------------+------------+-------------+-------+--------------------------------------------------------------------------------------------------------------------------------------------------------------------------------------------------------------------+--------+----------------------------------------------+----------------------------------------+------------+----------+\n",
      "only showing top 5 rows\n",
      "\n"
     ]
    }
   ],
   "source": [
    "spark.conf.set('spark.sql.repl.eagerEval.enabled', True)\n",
    "df.show(5,truncate=False)"
   ]
  },
  {
   "cell_type": "code",
   "execution_count": 6,
   "id": "a9876f4f-3e56-4050-9702-9d6ef201e51a",
   "metadata": {},
   "outputs": [
    {
     "name": "stdout",
     "output_type": "stream",
     "text": [
      "root\n",
      " |-- budget: decimal(18,2) (nullable = true)\n",
      " |-- genres: string (nullable = true)\n",
      " |-- homepage: string (nullable = true)\n",
      " |-- id: integer (nullable = true)\n",
      " |-- keywords: string (nullable = true)\n",
      " |-- original_language: string (nullable = true)\n",
      " |-- original_title: string (nullable = true)\n",
      " |-- overview: string (nullable = true)\n",
      " |-- popularity: float (nullable = true)\n",
      " |-- production_companies: string (nullable = true)\n",
      " |-- production_countries: string (nullable = true)\n",
      " |-- release_date: date (nullable = true)\n",
      " |-- revenue: decimal(18,2) (nullable = true)\n",
      " |-- runtime: float (nullable = true)\n",
      " |-- spoken_languages: string (nullable = true)\n",
      " |-- status: string (nullable = true)\n",
      " |-- tagline: string (nullable = true)\n",
      " |-- title: string (nullable = true)\n",
      " |-- vote_average: float (nullable = true)\n",
      " |-- vote_count: float (nullable = true)\n",
      "\n"
     ]
    }
   ],
   "source": [
    "df.printSchema()"
   ]
  },
  {
   "cell_type": "code",
   "execution_count": 7,
   "id": "834f7c0e-d414-45c8-9d41-375762b7278d",
   "metadata": {},
   "outputs": [],
   "source": [
    "# Define the schema for parsing JSON data\n",
    "j_schema = ArrayType(StructType([\n",
    "    StructField(\"id\", IntegerType()),\n",
    "    StructField(\"name\", StringType())\n",
    "]))"
   ]
  },
  {
   "cell_type": "code",
   "execution_count": 8,
   "id": "538c877b-06e5-44db-9714-4961330fb94b",
   "metadata": {},
   "outputs": [],
   "source": [
    "j_columns = [\"keywords\",\"production_companies\",\"production_countries\",\"spoken_languages\"]"
   ]
  },
  {
   "cell_type": "code",
   "execution_count": 9,
   "id": "fbc60251-14d5-4a00-a9de-e47e3c4860a7",
   "metadata": {},
   "outputs": [],
   "source": [
    "def parse_and_extract_name(df, columns):\n",
    "    for old_col in columns:\n",
    "        # Parse JSON data and extract \"name\" field\n",
    "        df = df.withColumn(\"parsed_data\", from_json(col(old_col), j_schema)) \\\n",
    "               .withColumn(old_col, expr(\"transform(parsed_data, x -> x.name)\")) \\\n",
    "               .drop(\"parsed_data\")\n",
    "    return df"
   ]
  },
  {
   "cell_type": "code",
   "execution_count": null,
   "id": "24af353f-4a9c-42b5-ba05-731222d62d3e",
   "metadata": {},
   "outputs": [],
   "source": []
  },
  {
   "cell_type": "code",
   "execution_count": 10,
   "id": "f44c8beb-e668-4ba3-8f43-d148237e24f2",
   "metadata": {},
   "outputs": [],
   "source": [
    "def write_to_hdfs(df,path):\n",
    "    df.write \\\n",
    "    .mode(\"overwrite\") \\\n",
    "    .option(\"header\", \"true\") \\\n",
    "    .csv(path)"
   ]
  },
  {
   "cell_type": "code",
   "execution_count": null,
   "id": "f943c2df-34b8-4c10-8417-39791be85941",
   "metadata": {},
   "outputs": [],
   "source": []
  },
  {
   "cell_type": "code",
   "execution_count": 14,
   "id": "a8585bc0-15d2-4cf1-b2df-fd195011e83b",
   "metadata": {},
   "outputs": [
    {
     "name": "stderr",
     "output_type": "stream",
     "text": [
      "24/05/02 06:07:27 WARN CacheManager: Asked to cache already cached data.\n"
     ]
    }
   ],
   "source": [
    "if __name__ == \"__main__\":\n",
    "    parsed_df = parse_and_extract_name(df, j_columns)\n",
    "    parsed_df.cache()\n",
    "    Genres_Agggregations_df = parsed_df.withColumn(\"parsed_data\", from_json(col(\"genres\"), j_schema))\\\n",
    "                                       .withColumn(\"genres\", explode(\"parsed_data\")) \\\n",
    "                                       .withColumn(\"genre_id\", col(\"genres.id\")) \\\n",
    "                                       .withColumn(\"genre_name\", col(\"genres.name\")) \\\n",
    "                                       .groupby(\"genre_id\",\"genre_name\").agg(count(\"*\").alias(\"num_movies\")) \\\n",
    "                                       .drop(\"genres\")\n",
    "    write_to_hdfs(Genres_Agggregations_df,Genres_Agggregations)\n",
    "    most_popular_per_language_df  = parsed_df.groupby(\"original_language\") \\\n",
    "                                             .agg(max(\"popularity\").alias(\"popularity\"), \\\n",
    "                                                  first(\"title\").alias(\"most_popular_movie\"))\n",
    "    write_to_hdfs(most_popular_per_language_df,popular_film)\n",
    "    parsed_df.unpersist()\n",
    "\n",
    "         \n",
    "    "
   ]
  },
  {
   "cell_type": "code",
   "execution_count": null,
   "id": "75a5c2a5-5246-4b89-8241-47d2a5be11b2",
   "metadata": {},
   "outputs": [],
   "source": []
  },
  {
   "cell_type": "code",
   "execution_count": null,
   "id": "a4a1cee7-d804-4aae-a6e4-1d1f2b419320",
   "metadata": {},
   "outputs": [],
   "source": []
  },
  {
   "cell_type": "code",
   "execution_count": null,
   "id": "a88572ad-b899-4d5a-abb1-734b4ec2ec04",
   "metadata": {},
   "outputs": [],
   "source": []
  },
  {
   "cell_type": "code",
   "execution_count": null,
   "id": "fa713f29-5f44-4121-8274-afe46d406601",
   "metadata": {},
   "outputs": [],
   "source": []
  },
  {
   "cell_type": "code",
   "execution_count": null,
   "id": "13e2f19c-801b-44ad-9328-67d8f9076d4b",
   "metadata": {},
   "outputs": [],
   "source": []
  },
  {
   "cell_type": "code",
   "execution_count": null,
   "id": "86abeae4-e043-40bd-83d2-22b730f973f8",
   "metadata": {},
   "outputs": [],
   "source": []
  },
  {
   "cell_type": "code",
   "execution_count": null,
   "id": "dd84315e-1d0e-4d7b-825a-e5aadb4df99b",
   "metadata": {},
   "outputs": [],
   "source": []
  },
  {
   "cell_type": "code",
   "execution_count": null,
   "id": "187b1598-bdde-4323-b17e-4ff4fb21d2dc",
   "metadata": {},
   "outputs": [],
   "source": []
  },
  {
   "cell_type": "code",
   "execution_count": null,
   "id": "10cd5f9e-ff4f-401b-bceb-1c3a60a41bac",
   "metadata": {},
   "outputs": [],
   "source": []
  },
  {
   "cell_type": "code",
   "execution_count": null,
   "id": "1dd0ac35-1091-4834-8800-f5af7ad683e1",
   "metadata": {},
   "outputs": [],
   "source": []
  },
  {
   "cell_type": "code",
   "execution_count": null,
   "id": "68c0c66e-ffc4-4ac7-b03d-2b09064f8f87",
   "metadata": {},
   "outputs": [],
   "source": []
  },
  {
   "cell_type": "code",
   "execution_count": null,
   "id": "a067469f-2589-4b90-be64-25064565cda5",
   "metadata": {},
   "outputs": [],
   "source": []
  },
  {
   "cell_type": "code",
   "execution_count": null,
   "id": "e7d903e4-ea0c-42c2-87d3-8ef25d3de3d5",
   "metadata": {},
   "outputs": [],
   "source": []
  },
  {
   "cell_type": "code",
   "execution_count": null,
   "id": "12c25fdf-c350-4ff0-8871-47a185e7ccdf",
   "metadata": {},
   "outputs": [],
   "source": []
  },
  {
   "cell_type": "code",
   "execution_count": null,
   "id": "889d69ae-8c31-4e56-86bd-c2c1049ede43",
   "metadata": {},
   "outputs": [],
   "source": []
  },
  {
   "cell_type": "code",
   "execution_count": null,
   "id": "c6025bae-daf0-458f-876d-7669f6131699",
   "metadata": {},
   "outputs": [],
   "source": []
  },
  {
   "cell_type": "code",
   "execution_count": null,
   "id": "a763b003-3009-4419-afae-1f8a9559dadf",
   "metadata": {},
   "outputs": [],
   "source": []
  },
  {
   "cell_type": "code",
   "execution_count": null,
   "id": "e751452a-cd45-43b9-86de-a092f187fd46",
   "metadata": {},
   "outputs": [],
   "source": []
  },
  {
   "cell_type": "code",
   "execution_count": null,
   "id": "03fd6d04-4473-46fc-976b-a01c74f36543",
   "metadata": {},
   "outputs": [],
   "source": []
  },
  {
   "cell_type": "code",
   "execution_count": null,
   "id": "7e0c7c4a-b7d1-4758-8164-356aa1e89610",
   "metadata": {},
   "outputs": [],
   "source": []
  },
  {
   "cell_type": "code",
   "execution_count": null,
   "id": "a0647748-61c4-443b-a04c-f3c2100cbf3f",
   "metadata": {},
   "outputs": [],
   "source": []
  },
  {
   "cell_type": "code",
   "execution_count": null,
   "id": "bcb7d27b-7306-446b-808a-ecb69ef76975",
   "metadata": {},
   "outputs": [],
   "source": []
  },
  {
   "cell_type": "code",
   "execution_count": null,
   "id": "7a19c491-c6e0-4a7f-803c-dd1175ddb155",
   "metadata": {},
   "outputs": [],
   "source": []
  },
  {
   "cell_type": "code",
   "execution_count": null,
   "id": "70b69665-aa69-4168-99a4-269a745c8f70",
   "metadata": {},
   "outputs": [],
   "source": []
  }
 ],
 "metadata": {
  "kernelspec": {
   "display_name": "Python 3 (ipykernel)",
   "language": "python",
   "name": "python3"
  },
  "language_info": {
   "codemirror_mode": {
    "name": "ipython",
    "version": 3
   },
   "file_extension": ".py",
   "mimetype": "text/x-python",
   "name": "python",
   "nbconvert_exporter": "python",
   "pygments_lexer": "ipython3",
   "version": "3.11.7"
  }
 },
 "nbformat": 4,
 "nbformat_minor": 5
}
